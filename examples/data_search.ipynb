{
 "cells": [
  {
   "cell_type": "markdown",
   "metadata": {},
   "source": [
    "# Search for available data\n",
    "\n",
    "Before downloading data we would usually want to know which data is available. Sentinel Hub offers multiple services to search for data:\n",
    "\n",
    "- [Catalog API](https://docs.sentinel-hub.com/api/latest/api/catalog)\n",
    "- [Web Feature Service](https://www.sentinel-hub.com/develop/api/ogc/standard-parameters/wfs/)\n",
    "- [Opensearch](https://www.sentinel-hub.com/develop/community/opensearch-interface/)\n",
    "\n",
    "In this example tutorial we will show how to use each of the services.\n",
    "\n",
    "\n",
    "## Sentinel Hub Catalog API\n",
    "\n",
    "Catalog API is the main service with the most configurable search options. \n",
    "\n",
    "- [Documentation](https://docs.sentinel-hub.com/api/latest/api/catalog)\n",
    "- [API definition](https://docs.sentinel-hub.com/api/latest/reference/#tag/Capabilities)\n",
    "- [STAC](https://stacspec.org/)\n",
    "\n",
    "\n",
    "### Prerequisites\n",
    "\n",
    "Imports:"
   ]
  },
  {
   "cell_type": "code",
   "execution_count": null,
   "metadata": {},
   "outputs": [],
   "source": [
    "%matplotlib inline\n",
    "\n",
    "import datetime as dt\n",
    "\n",
    "from sentinelhub import SHConfig, BBox, CRS, DataCollection, SentinelHubCatalog"
   ]
  },
  {
   "cell_type": "markdown",
   "metadata": {},
   "source": [
    "In the [Sentinel Hub dashboard](https://apps.sentinel-hub.com/dashboard/) under \"User settings\" there is the \"OAuth clients\" where we create a new OAuth client and use its CLIENT_ID and CLIENT_SECRET to create an instance of `sentinelhub.SHConfig`.\n",
    "\n",
    "<div class=\"alert alert-info\">\n",
    "\n",
    "**Note:**\n",
    "    \n",
    "Instead of providing credentials here we could also configure them beforehand according to [configuration instructions](http://sentinelhub-py.readthedocs.io/en/latest/configure.html).\n",
    "</div>"
   ]
  },
  {
   "cell_type": "code",
   "execution_count": null,
   "metadata": {},
   "outputs": [],
   "source": [
    "# In case you put the credentials into the configuration file you can leave this unchanged\n",
    "\n",
    "CLIENT_ID = ''\n",
    "CLIENT_SECRET = ''\n",
    "\n",
    "config = SHConfig()\n",
    "if CLIENT_ID and CLIENT_SECRET:\n",
    "    config.sh_client_id = CLIENT_ID\n",
    "    config.sh_client_secret = CLIENT_SECRET\n",
    "\n",
    "if config.sh_client_id == '' or config.sh_client_secret == '':\n",
    "    print(\"Warning! To use Sentinel Hub Catalog API, please provide the credentials (client ID and client secret).\")"
   ]
  },
  {
   "cell_type": "markdown",
   "metadata": {},
   "source": [
    "### Available data collections"
   ]
  },
  {
   "cell_type": "code",
   "execution_count": null,
   "metadata": {},
   "outputs": [],
   "source": [
    "catalog = SentinelHubCatalog(config=config)\n",
    "\n",
    "catalog.get_info()"
   ]
  },
  {
   "cell_type": "code",
   "execution_count": null,
   "metadata": {},
   "outputs": [],
   "source": [
    "catalog.get_conformance()"
   ]
  },
  {
   "cell_type": "code",
   "execution_count": null,
   "metadata": {},
   "outputs": [],
   "source": [
    "collections = catalog.get_collections()\n",
    "\n",
    "collections[0:3]"
   ]
  },
  {
   "cell_type": "code",
   "execution_count": null,
   "metadata": {},
   "outputs": [],
   "source": [
    "catalog.get_collection_info(DataCollection.SENTINEL2_L2A)"
   ]
  },
  {
   "cell_type": "code",
   "execution_count": null,
   "metadata": {},
   "outputs": [],
   "source": [
    "creodias_catalog = SentinelHubCatalog(\n",
    "    base_url=DataCollection.SENTINEL3_OLCI.service_url,\n",
    "    config=config\n",
    ")\n",
    "\n",
    "creodias_catalog.get_info()"
   ]
  },
  {
   "cell_type": "markdown",
   "metadata": {},
   "source": [
    "### Search features"
   ]
  },
  {
   "cell_type": "code",
   "execution_count": null,
   "metadata": {},
   "outputs": [],
   "source": [
    "catalog.get_feature(DataCollection.SENTINEL2_L2A, 'S2B_MSIL2A_20180318T105029_N0001_R065_T29HMB_20201017T221440')"
   ]
  },
  {
   "cell_type": "code",
   "execution_count": null,
   "metadata": {},
   "outputs": [],
   "source": [
    "bbox = BBox([-147.8, 60.96, -146.5, 61.38], crs=CRS.WGS84)\n",
    "time_interval = '2021-01-01', '2021-01-31'\n",
    "\n",
    "search = catalog.search(\n",
    "    [DataCollection.SENTINEL2_L1C],\n",
    "    bbox=bbox,\n",
    "    time=time_interval,\n",
    "    limit=10\n",
    ")\n",
    "\n",
    "search\n",
    "\n",
    "results = list(search)\n",
    "\n",
    "results[0]"
   ]
  },
  {
   "cell_type": "code",
   "execution_count": null,
   "metadata": {},
   "outputs": [],
   "source": []
  },
  {
   "cell_type": "markdown",
   "metadata": {},
   "source": [
    "### Combine Catalog API with Processing API"
   ]
  },
  {
   "cell_type": "code",
   "execution_count": null,
   "metadata": {},
   "outputs": [],
   "source": []
  },
  {
   "cell_type": "code",
   "execution_count": null,
   "metadata": {},
   "outputs": [],
   "source": []
  },
  {
   "cell_type": "code",
   "execution_count": null,
   "metadata": {},
   "outputs": [],
   "source": []
  },
  {
   "cell_type": "markdown",
   "metadata": {},
   "source": [
    "## Web Feature Service (WFS)"
   ]
  },
  {
   "cell_type": "code",
   "execution_count": null,
   "metadata": {},
   "outputs": [],
   "source": []
  },
  {
   "cell_type": "code",
   "execution_count": null,
   "metadata": {},
   "outputs": [],
   "source": []
  },
  {
   "cell_type": "markdown",
   "metadata": {},
   "source": [
    "## Sentinel Hub Opensearch"
   ]
  },
  {
   "cell_type": "code",
   "execution_count": null,
   "metadata": {},
   "outputs": [],
   "source": []
  }
 ],
 "metadata": {
  "kernelspec": {
   "display_name": "Python 3",
   "language": "python",
   "name": "python3"
  },
  "language_info": {
   "codemirror_mode": {
    "name": "ipython",
    "version": 3
   },
   "file_extension": ".py",
   "mimetype": "text/x-python",
   "name": "python",
   "nbconvert_exporter": "python",
   "pygments_lexer": "ipython3",
   "version": "3.8.5"
  }
 },
 "nbformat": 4,
 "nbformat_minor": 4
}
